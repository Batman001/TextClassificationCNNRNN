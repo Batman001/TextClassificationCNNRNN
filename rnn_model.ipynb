{
 "cells": [
  {
   "cell_type": "code",
   "execution_count": 1,
   "metadata": {},
   "outputs": [
    {
     "name": "stderr",
     "output_type": "stream",
     "text": [
      "/Users/sunchao/anaconda3/lib/python3.6/site-packages/h5py/__init__.py:34: FutureWarning: Conversion of the second argument of issubdtype from `float` to `np.floating` is deprecated. In future, it will be treated as `np.float64 == np.dtype(float).type`.\n",
      "  from ._conv import register_converters as _register_converters\n",
      "/Users/sunchao/anaconda3/lib/python3.6/site-packages/requests/__init__.py:80: RequestsDependencyWarning: urllib3 (1.23) or chardet (3.0.4) doesn't match a supported version!\n",
      "  RequestsDependencyWarning)\n"
     ]
    }
   ],
   "source": [
    "import tensorflow as tf"
   ]
  },
  {
   "cell_type": "code",
   "execution_count": 3,
   "metadata": {
    "collapsed": true
   },
   "outputs": [],
   "source": [
    "class TRnnConfig(object):\n",
    "    '''RNN配置参数'''\n",
    "    embedding_dim = 64  # 词向量维度\n",
    "    seq_length = 25\n",
    "    num_classes = 10\n",
    "    vocab_size = 5000\n",
    "    num_layers = 2\n",
    "    hidden_dim = 128\n",
    "    rnn = \"LSTM\"\n",
    "    dropout_keep_prob = 0.8\n",
    "    learning_rate = 0.001\n",
    "    batch_size = 128\n",
    "    num_epochs = 5\n",
    "    print_per_batch = 100\n",
    "    save_per_batch = 10"
   ]
  },
  {
   "cell_type": "code",
   "execution_count": 4,
   "metadata": {
    "collapsed": true
   },
   "outputs": [],
   "source": [
    "class TextRnn(object):\n",
    "    \"\"\"文本分类模型\"\"\"\n",
    "    def __init__(self, config):\n",
    "        self.config = config\n",
    "        \n",
    "        # 三个待输入的数据源\n",
    "        self.input_x = tf.placeholder(tf.float32, [None, self.config.seq_length], name=\"input_x\")\n",
    "        self.input_y = tf.placeholder(tf.float32, [None, self.config.num_classes], name=\"input_y\")\n",
    "        self.keep_prob = tf.placeholder(tf.float32, name=\"keep_prob\")\n",
    "        \n",
    "    def rnn(self):\n",
    "        \"\"\"RNN模型\"\"\"\n",
    "        def lstm_cell():\n",
    "            return tf.nn.rnn_cell.BasicLSTMCell(self.config.hidden_dim, state_is_tuple=True)\n",
    "        def gru_cell():\n",
    "            return tf.nn.rnn_cell.GRUCell(self.config.hidden_dim)\n",
    "        \n",
    "        def dropout():\n",
    "            if(self.config.rnn == \"GRU\"):\n",
    "                cell = gru_cell()\n",
    "            else:\n",
    "                cell = lstm_cell()\n",
    "            return tf.contrib.rnn.DropoutWrapper(cell, output_keep_prob=self.config.dropout_keep_prob)\n",
    "        \n",
    "        # 词向量映射\n",
    "        with tf.device(\"/cpu:0\"):\n",
    "            embedding = tf.get_variable('embedding', [self.config.vocab_size, self.config.embedding_dim])\n",
    "            embedding_inputs = tf.nn.embedding_lookup(embedding, self.input_x)\n",
    "        with tf.name_scope(\"rnn\"):\n",
    "            # 多层LSTM层\n",
    "            cells = [dropout() for _ in range(self.config.num_layers)]\n",
    "            rnn_cell = tf.contrib.rnn.MultiRNNCell(cells, state_is_tuple=True)\n",
    "            _outputs, _ = tf.nn.dynamic_rnn(cell=rnn_cell, inputs=embedding_inputs, dtype=tf.float32)\n",
    "            last = _outputs[:,-1,:]  # 取最后一个时序作为输出\n",
    "            \n",
    "        with tf.name_scope(\"score\"):\n",
    "            # 全连接层\n",
    "            fc = tf.layers.dense(last, self.config.hidden_dim, name=\"fc1\")\n",
    "            fc = tf.contrib.layers.dropout(fc, keep_prob=self.keep_prob)\n",
    "            fc = tf.nn.relu(fc)\n",
    "            \n",
    "            # 分类器\n",
    "            self.logits = tf.layers.dense(fc, self.config.num_classes, name='fc2')\n",
    "            self.y_pred_cls = tf.argmax(tf.nn.softmax(self.logits),1)  #  预测类别\n",
    "        \n",
    "        with tf.name_scope(\"optimize\"):\n",
    "            # 损失函数 交叉熵\n",
    "            cross_entropy = tf.nn.softmax_cross_entropy_with_logits(logits=self.logits, labels=self.input_y)\n",
    "            self.loss = tf.reduce_mean(cross_entropy)\n",
    "            # 优化器\n",
    "            self.optimizer = tf.train.AdamOptimizer(self.config.learning_rate).minimize(self.loss)\n",
    "            \n",
    "        with tf.name_scope(\"accuracy\"):\n",
    "            correct_pred = tf.equal(tf.argmax(self.input_y, 1), self.y_pred_cls)\n",
    "            self.acc = tf.reduce_mean(tf.cast(correct_pred, dtype=tf.float32))\n",
    "            "
   ]
  },
  {
   "cell_type": "code",
   "execution_count": null,
   "metadata": {
    "collapsed": true
   },
   "outputs": [],
   "source": []
  }
 ],
 "metadata": {
  "kernelspec": {
   "display_name": "Python 3",
   "language": "python",
   "name": "python3"
  },
  "language_info": {
   "codemirror_mode": {
    "name": "ipython",
    "version": 3
   },
   "file_extension": ".py",
   "mimetype": "text/x-python",
   "name": "python",
   "nbconvert_exporter": "python",
   "pygments_lexer": "ipython3",
   "version": "3.6.1"
  }
 },
 "nbformat": 4,
 "nbformat_minor": 2
}
